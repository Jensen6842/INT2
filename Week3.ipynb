{
 "cells": [
  {
   "cell_type": "code",
   "execution_count": 2,
   "metadata": {},
   "outputs": [],
   "source": [
    "import numpy as np"
   ]
  },
  {
   "cell_type": "code",
   "execution_count": 15,
   "metadata": {},
   "outputs": [
    {
     "name": "stdout",
     "output_type": "stream",
     "text": [
      "xTv = [[26]] xvT = [[ 6  0  8]\n",
      " [ 9  0 12]\n",
      " [15  0 20]]\n"
     ]
    }
   ],
   "source": [
    "# 1a\n",
    "x = np.matrix([[2],[3],[5]])\n",
    "v = np.matrix([[3],[0],[4]])\n",
    "\n",
    "xTv = np.matmul(x.transpose(),v)\n",
    "xvT = np.matmul(x,v.transpose())\n",
    "\n",
    "print(\"xTv =\", xTv, \"xvT =\", xvT)"
   ]
  },
  {
   "cell_type": "code",
   "execution_count": 18,
   "metadata": {},
   "outputs": [
    {
     "name": "stdout",
     "output_type": "stream",
     "text": [
      "c = [[14]\n",
      " [14]]\n"
     ]
    }
   ],
   "source": [
    "#1b\n",
    "A = np.matrix([[4,1,0,2],[2,0,1,3]])\n",
    "b = np.matrix([[3],[0],[5],[1]])\n",
    "\n",
    "c = np.matmul(A,b)\n",
    "\n",
    "print(\"c = Ab\", c)"
   ]
  },
  {
   "cell_type": "code",
   "execution_count": 20,
   "metadata": {},
   "outputs": [
    {
     "name": "stdout",
     "output_type": "stream",
     "text": [
      "C = [[14 18 10]\n",
      " [14 13 13]]\n"
     ]
    }
   ],
   "source": [
    "#1c\n",
    "B = np.matrix([[3,2,0],[0,4,2],[5,0,1],[1,3,4]])\n",
    "\n",
    "C = np.matmul(A,B)\n",
    "\n",
    "print(\"C = AB =\", C)"
   ]
  },
  {
   "cell_type": "code",
   "execution_count": 24,
   "metadata": {},
   "outputs": [
    {
     "name": "stdout",
     "output_type": "stream",
     "text": [
      "||w||_2 = 5.477225575051661\n"
     ]
    }
   ],
   "source": [
    "#1d\n",
    "w = np.matrix([[2],[4],[3],[1]])\n",
    "\n",
    "print(\"||w||_2 =\", np.linalg.norm(w))"
   ]
  },
  {
   "cell_type": "code",
   "execution_count": 32,
   "metadata": {},
   "outputs": [
    {
     "name": "stdout",
     "output_type": "stream",
     "text": [
      "The nit vector norm pointing in the same direction as u = 1\n"
     ]
    }
   ],
   "source": [
    "#1e\n",
    "u = np.matrix([[5],[0],[0]])\n",
    "print(\"The nit vector norm pointing in the same direction as u =\", int(np.linalg.norm(u / np.linalg.norm(u))))"
   ]
  },
  {
   "cell_type": "code",
   "execution_count": 38,
   "metadata": {},
   "outputs": [
    {
     "name": "stdout",
     "output_type": "stream",
     "text": [
      "The sub-matrix of B consisting of the elements of only the second and third row, and the second column = [[4]\n",
      " [0]]\n"
     ]
    }
   ],
   "source": [
    "#2b\n",
    "print(\"The sub-matrix of B consisting of the elements of only the second and third row, and the second column =\", B[1:3][:,1])"
   ]
  },
  {
   "cell_type": "code",
   "execution_count": 64,
   "metadata": {},
   "outputs": [],
   "source": [
    "#2c\n",
    "def dot(v1, v2):\n",
    "    if len(v1) == len(v2):\n",
    "        temp = 0\n",
    "        for i,j in zip(v1,v2):\n",
    "            temp += i*j\n",
    "        return temp\n",
    "    else:\n",
    "        raise Exception(\"The lengths of the inputted vectors are not equal.\")"
   ]
  },
  {
   "cell_type": "code",
   "execution_count": 61,
   "metadata": {},
   "outputs": [
    {
     "name": "stdout",
     "output_type": "stream",
     "text": [
      "The matrix representation of the subjects' tumor data is [[17  9]\n",
      " [21 10]\n",
      " [12 17]]\n"
     ]
    }
   ],
   "source": [
    "#2d\n",
    "data = np.matrix([[17,9],[21,10],[12,17]])\n",
    "print(\"The matrix representation of the subjects' tumor data is\", data)"
   ]
  },
  {
   "cell_type": "code",
   "execution_count": 79,
   "metadata": {},
   "outputs": [],
   "source": [
    "#2e\n",
    "def transform(data):\n",
    "    return (np.matmul(data, np.matrix([[1],[1]])))"
   ]
  },
  {
   "cell_type": "code",
   "execution_count": 83,
   "metadata": {},
   "outputs": [
    {
     "name": "stdout",
     "output_type": "stream",
     "text": [
      "13\n",
      "34\n",
      "33\n"
     ]
    }
   ],
   "source": [
    "#2f\n",
    "def hypothesis(x, theta, theta_0):\n",
    "    return int(np.matmul(theta.transpose(), x)) + theta_0\n",
    "\n",
    "subject1 = np.matrix([[17],[9]])\n",
    "subject2 = np.matrix([[21],[10]])\n",
    "subject3 = np.matrix([[12],[17]])\n",
    "subjects = [subject1, subject2, subject3]\n",
    "\n",
    "for i in subjects:\n",
    "    print(hypothesis(i, np.matrix([[4],[5]]), -100))"
   ]
  }
 ],
 "metadata": {
  "kernelspec": {
   "display_name": "Python 3",
   "language": "python",
   "name": "python3"
  },
  "language_info": {
   "codemirror_mode": {
    "name": "ipython",
    "version": 3
   },
   "file_extension": ".py",
   "mimetype": "text/x-python",
   "name": "python",
   "nbconvert_exporter": "python",
   "pygments_lexer": "ipython3",
   "version": "3.7.10"
  }
 },
 "nbformat": 4,
 "nbformat_minor": 4
}
